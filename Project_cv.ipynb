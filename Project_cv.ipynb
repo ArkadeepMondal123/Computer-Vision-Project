{
 "cells": [
  {
   "cell_type": "code",
   "execution_count": 4,
   "metadata": {},
   "outputs": [],
   "source": [
    "import cv2\n",
    "img1=cv2.imread(r'C:\\Users\\admin\\Desktop\\Arkadeep\\Data\\animal.jpg')\n",
    "img1_gray=cv2.cvtColor(img1,cv2.COLOR_BGR2GRAY)\n",
    "ret,thresh=cv2.threshold(img1_gray,80,255,cv2.THRESH_BINARY)\n",
    "cv2.imshow('img',thresh)\n",
    "cv2.waitKey(0) & 0xFF\n",
    "cv2.destroyAllWindows()"
   ]
  },
  {
   "cell_type": "code",
   "execution_count": null,
   "metadata": {},
   "outputs": [],
   "source": []
  }
 ],
 "metadata": {
  "kernelspec": {
   "display_name": "Python 3",
   "language": "python",
   "name": "python3"
  },
  "language_info": {
   "codemirror_mode": {
    "name": "ipython",
    "version": 3
   },
   "file_extension": ".py",
   "mimetype": "text/x-python",
   "name": "python",
   "nbconvert_exporter": "python",
   "pygments_lexer": "ipython3",
   "version": "3.10.0"
  }
 },
 "nbformat": 4,
 "nbformat_minor": 2
}
